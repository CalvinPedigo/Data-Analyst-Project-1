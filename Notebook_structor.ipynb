{
 "cells": [
  {
   "cell_type": "code",
   "execution_count": null,
   "metadata": {},
   "outputs": [],
   "source": [
    "# Import Dependencies\n",
    "import matplotlib.pyplot as plt\n",
    "import requests\n",
    "import pandas as pd\n",
    "from scipy import stats\n",
    "import os\n",
    "from pathlib import Path\n",
    "%matplotlib inline"
   ]
  },
  {
   "cell_type": "code",
   "execution_count": null,
   "metadata": {},
   "outputs": [],
   "source": [
    "# pull in CSV df - 2019 through 2021 - vehicle csv\n",
    "csv_path2019 = Path(r\"C:\\Users\\railc\\OneDrive\\Desktop\\Bootcamp docs\\Data-Analyst-Project-1\\CSV\\2019_vehicle.csv\")\n",
    "csv_path2020 = Path(r\"C:\\Users\\railc\\OneDrive\\Desktop\\Bootcamp docs\\Data-Analyst-Project-1\\CSV\\2020_vehicle.csv\")\n",
    "csv_path2021 = Path(r\"C:\\Users\\railc\\OneDrive\\Desktop\\Bootcamp docs\\Data-Analyst-Project-1\\CSV\\2021_vehicle.csv\")\n",
    "# Since there are many columns, we need to remove the column cap\n",
    "pd.set_option('display.max_columns', None)\n",
    "vehicle2019_df = pd.read_csv(csv_path2019, encoding='cp1252', low_memory=False)\n",
    "vehicle2020_df = pd.read_csv(csv_path2020, encoding='cp1252', low_memory=False)\n",
    "vehicle2021_df = pd.read_csv(csv_path2021, encoding='cp1252', low_memory=False)\n",
    "\n",
    "# Cleaning the data into the important bits\n",
    "cleaned2019 = vehicle2019_df[['STATENAME','MONTHNAME','BODY_TYPNAME','DEATHS','BODY_TYP','OWNER','MAK_MODNAME','HARM_EVNAME', 'MAN_COLLNAME',\n",
    "                               'VNUM_LAN']]\n",
    "cleaned2020 = vehicle2020_df[['STATENAME','MONTHNAME','BODY_TYPNAME','DEATHS','BODY_TYP','OWNER','MAK_MODNAME','HARM_EVNAME', 'MAN_COLLNAME',\n",
    "                               'VNUM_LAN']]\n",
    "cleaned2021 = vehicle2021_df[['STATENAME','MONTHNAME','BODY_TYPNAME','DEATHS','ACC_TYPE','OWNER','MAK_MODNAME','HARM_EVNAME', 'MAN_COLLNAME',\n",
    "                               'VNUM_LAN']]\n",
    "\n",
    "\n",
    "# Renaming columns and filtering them\n",
    "new_names = {\"HARM_EVNAME\": \"Accident Type\", \"MAN_COLLNAME\": \"Vehicle Crash Description\", \"VNUM_LAN\": \"Lanes Involved\",\n",
    "             \"BODY_TYP\": \"Vehicle Type ID\", \"STATENAME\": \"State Name\", \"MONTHNAME\": \"Month Name\", \"BODY_TYPNAME\": \"Body Type\",\n",
    "             \"DEATHS\":\"Deaths\", \"OWNER\": \"Owner\", \"MAK_MODNAME\": \"Make and Model\"}\n",
    "fixed2019 = cleaned2019.rename(columns=new_names)\n",
    "fixed2020 = cleaned2020.rename(columns=new_names)\n",
    "fixed2021 = cleaned2021.rename(columns=new_names)\n"
   ]
  },
  {
   "cell_type": "code",
   "execution_count": null,
   "metadata": {},
   "outputs": [],
   "source": [
    "\n",
    "# Filters by potential lane splitting or filtering motorcycles exclusively\n",
    "filtered2019 = fixed2019[(fixed2019['Vehicle Type ID'] == 80) & (fixed2019['Lanes Involved'] != 1)]\n",
    "filtered2019.head(5)"
   ]
  },
  {
   "cell_type": "code",
   "execution_count": null,
   "metadata": {},
   "outputs": [],
   "source": [
    "#clean data for CA -  years 2019 through 2021 - MONTHNAME - ACC_TYPE - OWNER - MAK_MODNAME- BODY_TYPNAME - HARM_EVNAME - MAN_COLLNAME - VNUM_LAN(exculed 1 lane)"
   ]
  },
  {
   "cell_type": "code",
   "execution_count": null,
   "metadata": {},
   "outputs": [],
   "source": [
    "#clean data for UT - years 2019 through 2021 - MONTHNAME - ACC_TYPE - OWNER - MAK_MODNAME- BODY_TYPNAME - HARM_EVNAME - MAN_COLLNAME - VNUM_LAN(exculed 1 lane)"
   ]
  },
  {
   "cell_type": "code",
   "execution_count": null,
   "metadata": {},
   "outputs": [],
   "source": [
    "#clean data for ID - years 2019 through 2021 - MONTHNAME - ACC_TYPE - OWNER - MAK_MODNAME- BODY_TYPNAME - HARM_EVNAME - MAN_COLLNAME - VNUM_LAN(exculed 1 lane)"
   ]
  },
  {
   "cell_type": "code",
   "execution_count": null,
   "metadata": {},
   "outputs": [],
   "source": [
    "#compare CA years accidents with chart "
   ]
  },
  {
   "cell_type": "code",
   "execution_count": null,
   "metadata": {},
   "outputs": [],
   "source": [
    "#compare UT years accidents with chart "
   ]
  },
  {
   "cell_type": "code",
   "execution_count": null,
   "metadata": {},
   "outputs": [],
   "source": [
    "# Filters by potential lane splitting or filtering motorcycles exclusively\n",
    "idaho_accidents_2019 = fixed2019[(fixed2019['Vehicle Type ID'] == 80) & \n",
    "                                  (fixed2019['Lanes Involved'] != 1) & \n",
    "                                  (fixed2019['State Name'] == 'Idaho')]\n",
    "idaho_accidents_2019.head(5)\n"
   ]
  },
  {
   "cell_type": "code",
   "execution_count": null,
   "metadata": {},
   "outputs": [],
   "source": [
    "idaho_accidents_2020 = fixed2020[(fixed2020['Vehicle Type ID'] == 80) & \n",
    "                                  (fixed2020['Lanes Involved'] != 1) & \n",
    "                                  (fixed2020['State Name'] == 'Idaho')]\n",
    "idaho_accidents_2020.head(5)\n"
   ]
  },
  {
   "cell_type": "code",
   "execution_count": null,
   "metadata": {},
   "outputs": [],
   "source": [
    "idaho_accidents_2021 = fixed2021[(fixed2021['Body Type'].str.contains('Motorcycle')) & \n",
    "                                  (fixed2021['Lanes Involved'] != 1) & \n",
    "                                  (fixed2021['State Name'] == 'Idaho')]\n",
    "idaho_accidents_2021.head(5)"
   ]
  },
  {
   "cell_type": "code",
   "execution_count": null,
   "metadata": {},
   "outputs": [],
   "source": [
    "# Aggregate the data by month and count the number of accidents for 2019\n",
    "monthly_counts_2019 = idaho_accidents_2019[idaho_accidents_2019['Month Name'].isin(['April', 'May', 'June', 'July', 'August'])].groupby('Month Name').size()\n",
    "\n",
    "monthly_counts_2020 = idaho_accidents_2020[idaho_accidents_2020['Month Name'].isin(['April', 'May', 'June', 'July', 'August'])].groupby('Month Name').size()\n",
    "\n",
    "monthly_counts_2021 = idaho_accidents_2021[idaho_accidents_2021['Month Name'].isin(['April', 'May', 'June', 'July', 'August'])].groupby('Month Name').size()\n",
    "\n",
    "# plot the data\n",
    "plt.figure(figsize=(10, 6))\n",
    "\n",
    "# Plotting 2019 data\n",
    "plt.bar(monthly_counts_2019.index, monthly_counts_2019, label='2019', color='blue')\n",
    "\n",
    "# Plotting 2020 data\n",
    "plt.bar(monthly_counts_2020.index, monthly_counts_2020, label='2020', color='red')\n",
    "\n",
    "# Plotting 2021 data\n",
    "plt.bar(monthly_counts_2021.index, monthly_counts_2021, label='2021', color='green')\n",
    "\n",
    "plt.xlabel('Month')\n",
    "plt.ylabel('Number of Accidents')\n",
    "plt.title('Monthly Accident Counts in Idaho (April-August)')\n",
    "plt.legend()\n",
    "plt.xticks(rotation=45)\n",
    "plt.tight_layout()\n",
    "plt.show()\n"
   ]
  },
  {
   "cell_type": "code",
   "execution_count": null,
   "metadata": {},
   "outputs": [],
   "source": [
    "#compare ID years accidents with chart "
   ]
  },
  {
   "cell_type": "code",
   "execution_count": null,
   "metadata": {},
   "outputs": [],
   "source": [
    "#compare UT & ID to CA with chart"
   ]
  },
  {
   "cell_type": "code",
   "execution_count": null,
   "metadata": {},
   "outputs": [],
   "source": [
    "#compare COLL types "
   ]
  }
 ],
 "metadata": {
  "kernelspec": {
   "display_name": "dev",
   "language": "python",
   "name": "python3"
  },
  "language_info": {
   "codemirror_mode": {
    "name": "ipython",
    "version": 3
   },
   "file_extension": ".py",
   "mimetype": "text/x-python",
   "name": "python",
   "nbconvert_exporter": "python",
   "pygments_lexer": "ipython3",
   "version": "3.10.13"
  }
 },
 "nbformat": 4,
 "nbformat_minor": 2
}

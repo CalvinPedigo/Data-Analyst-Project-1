{
 "cells": [
  {
   "cell_type": "code",
   "execution_count": 2,
   "metadata": {},
   "outputs": [],
   "source": [
    "# Import Dependencies\n",
    "import matplotlib.pyplot as plt\n",
    "import requests\n",
    "import pandas as pd\n",
    "from scipy import stats\n",
    "import os\n",
    "from pathlib import Path\n",
    "%matplotlib inline"
   ]
  },
  {
   "cell_type": "code",
   "execution_count": 45,
   "metadata": {},
   "outputs": [],
   "source": [
    "# pull in CSV df - 2019 through 2021 - vehicle csv\n",
    "csv_path2019 = Path('CSV data/vehicle2019.csv')\n",
    "csv_path2020 = Path('CSV data/vehicle2020.csv')\n",
    "csv_path2021 = Path('CSV data/vehicle2021.csv')\n",
    "# Since there are many columns, we need to remove the column cap\n",
    "pd.set_option('display.max_columns', None)\n",
    "vehicle2019_df = pd.read_csv(csv_path2019, encoding='cp1252', low_memory=False)\n",
    "vehicle2020_df = pd.read_csv(csv_path2020, encoding='cp1252', low_memory=False)\n",
    "vehicle2021_df = pd.read_csv(csv_path2021, encoding='cp1252', low_memory=False)\n",
    "\n",
    "# Cleaning the data into the important bits\n",
    "cleaned2019 = vehicle2019_df[['STATENAME','MONTHNAME','BODY_TYPNAME','DEATHS','BODY_TYP','OWNER','MAK_MODNAME','HARM_EVNAME', 'MAN_COLLNAME',\n",
    "                               'VNUM_LAN']]\n",
    "cleaned2020 = vehicle2020_df[['STATENAME','MONTHNAME','BODY_TYPNAME','DEATHS','BODY_TYP','OWNER','MAK_MODNAME','HARM_EVNAME', 'MAN_COLLNAME',\n",
    "                               'VNUM_LAN']]\n",
    "cleaned2021 = vehicle2021_df[['STATENAME','MONTHNAME','BODY_TYPNAME','DEATHS','ACC_TYPE','OWNER','MAK_MODNAME','HARM_EVNAME', 'MAN_COLLNAME',\n",
    "                               'VNUM_LAN']]\n",
    "\n",
    "\n",
    "# Renaming columns and filtering them\n",
    "new_names = {\"HARM_EVNAME\": \"Accident Type\", \"MAN_COLLNAME\": \"Vehicle Crash Description\", \"VNUM_LAN\": \"Lanes Involved\",\n",
    "             \"BODY_TYP\": \"Vehicle Type ID\", \"STATENAME\": \"State Name\", \"MONTHNAME\": \"Month Name\", \"BODY_TYPNAME\": \"Body Type\",\n",
    "             \"DEATHS\":\"Deaths\", \"OWNER\": \"Owner\", \"MAK_MODNAME\": \"Make and Model\"}\n",
    "fixed2019 = cleaned2019.rename(columns=new_names)\n",
    "fixed2020 = cleaned2020.rename(columns=new_names)\n",
    "fixed2021 = cleaned2021.rename(columns=new_names)"
   ]
  },
  {
   "cell_type": "code",
   "execution_count": null,
   "metadata": {},
   "outputs": [],
   "source": []
  },
  {
   "cell_type": "code",
   "execution_count": 54,
   "metadata": {},
   "outputs": [
    {
     "data": {
      "text/html": [
       "<div>\n",
       "<style scoped>\n",
       "    .dataframe tbody tr th:only-of-type {\n",
       "        vertical-align: middle;\n",
       "    }\n",
       "\n",
       "    .dataframe tbody tr th {\n",
       "        vertical-align: top;\n",
       "    }\n",
       "\n",
       "    .dataframe thead th {\n",
       "        text-align: right;\n",
       "    }\n",
       "</style>\n",
       "<table border=\"1\" class=\"dataframe\">\n",
       "  <thead>\n",
       "    <tr style=\"text-align: right;\">\n",
       "      <th></th>\n",
       "      <th>State Name</th>\n",
       "      <th>Month Name</th>\n",
       "      <th>MAKE</th>\n",
       "      <th>Body Type</th>\n",
       "      <th>Deaths</th>\n",
       "      <th>Vehicle Type ID</th>\n",
       "      <th>Owner</th>\n",
       "      <th>Make and Model</th>\n",
       "      <th>Accident Type</th>\n",
       "      <th>Vehicle Crash Description</th>\n",
       "      <th>Lanes Involved</th>\n",
       "    </tr>\n",
       "  </thead>\n",
       "  <tbody>\n",
       "    <tr>\n",
       "      <th>24</th>\n",
       "      <td>Alabama</td>\n",
       "      <td>January</td>\n",
       "      <td>76</td>\n",
       "      <td>Two Wheel Motorcycle (excluding motor scooters)</td>\n",
       "      <td>1</td>\n",
       "      <td>80</td>\n",
       "      <td>1</td>\n",
       "      <td>Yamaha 450-749cc</td>\n",
       "      <td>Motor Vehicle In-Transport</td>\n",
       "      <td>Angle</td>\n",
       "      <td>2</td>\n",
       "    </tr>\n",
       "    <tr>\n",
       "      <th>27</th>\n",
       "      <td>Alabama</td>\n",
       "      <td>January</td>\n",
       "      <td>76</td>\n",
       "      <td>Two Wheel Motorcycle (excluding motor scooters)</td>\n",
       "      <td>1</td>\n",
       "      <td>80</td>\n",
       "      <td>1</td>\n",
       "      <td>Yamaha 750cc or greater</td>\n",
       "      <td>Rollover/Overturn</td>\n",
       "      <td>The First Harmful Event was Not a Collision wi...</td>\n",
       "      <td>2</td>\n",
       "    </tr>\n",
       "    <tr>\n",
       "      <th>35</th>\n",
       "      <td>Alabama</td>\n",
       "      <td>January</td>\n",
       "      <td>53</td>\n",
       "      <td>Two Wheel Motorcycle (excluding motor scooters)</td>\n",
       "      <td>1</td>\n",
       "      <td>80</td>\n",
       "      <td>2</td>\n",
       "      <td>Suzuki 450-749cc</td>\n",
       "      <td>Motor Vehicle In-Transport</td>\n",
       "      <td>Front-to-Rear</td>\n",
       "      <td>5</td>\n",
       "    </tr>\n",
       "    <tr>\n",
       "      <th>172</th>\n",
       "      <td>Alabama</td>\n",
       "      <td>March</td>\n",
       "      <td>72</td>\n",
       "      <td>Two Wheel Motorcycle (excluding motor scooters)</td>\n",
       "      <td>1</td>\n",
       "      <td>80</td>\n",
       "      <td>1</td>\n",
       "      <td>Harley-Davidson 750cc or greater</td>\n",
       "      <td>Live Animal</td>\n",
       "      <td>The First Harmful Event was Not a Collision wi...</td>\n",
       "      <td>2</td>\n",
       "    </tr>\n",
       "    <tr>\n",
       "      <th>182</th>\n",
       "      <td>Alabama</td>\n",
       "      <td>March</td>\n",
       "      <td>37</td>\n",
       "      <td>Two Wheel Motorcycle (excluding motor scooters)</td>\n",
       "      <td>1</td>\n",
       "      <td>80</td>\n",
       "      <td>1</td>\n",
       "      <td>Honda 750 cc or greater</td>\n",
       "      <td>Motor Vehicle In-Transport</td>\n",
       "      <td>Angle</td>\n",
       "      <td>2</td>\n",
       "    </tr>\n",
       "  </tbody>\n",
       "</table>\n",
       "</div>"
      ],
      "text/plain": [
       "    State Name Month Name  MAKE  \\\n",
       "24     Alabama    January    76   \n",
       "27     Alabama    January    76   \n",
       "35     Alabama    January    53   \n",
       "172    Alabama      March    72   \n",
       "182    Alabama      March    37   \n",
       "\n",
       "                                           Body Type  Deaths  Vehicle Type ID  \\\n",
       "24   Two Wheel Motorcycle (excluding motor scooters)       1               80   \n",
       "27   Two Wheel Motorcycle (excluding motor scooters)       1               80   \n",
       "35   Two Wheel Motorcycle (excluding motor scooters)       1               80   \n",
       "172  Two Wheel Motorcycle (excluding motor scooters)       1               80   \n",
       "182  Two Wheel Motorcycle (excluding motor scooters)       1               80   \n",
       "\n",
       "     Owner                    Make and Model               Accident Type  \\\n",
       "24       1                  Yamaha 450-749cc  Motor Vehicle In-Transport   \n",
       "27       1           Yamaha 750cc or greater           Rollover/Overturn   \n",
       "35       2                  Suzuki 450-749cc  Motor Vehicle In-Transport   \n",
       "172      1  Harley-Davidson 750cc or greater                 Live Animal   \n",
       "182      1           Honda 750 cc or greater  Motor Vehicle In-Transport   \n",
       "\n",
       "                             Vehicle Crash Description  Lanes Involved  \n",
       "24                                               Angle               2  \n",
       "27   The First Harmful Event was Not a Collision wi...               2  \n",
       "35                                       Front-to-Rear               5  \n",
       "172  The First Harmful Event was Not a Collision wi...               2  \n",
       "182                                              Angle               2  "
      ]
     },
     "execution_count": 54,
     "metadata": {},
     "output_type": "execute_result"
    }
   ],
   "source": [
    "# Filters by potential lane splitting or filtering motorcycles exclusively\n",
    "filtered2019 = fixed2019[(fixed2019['Vehicle Type ID'] == 80) & (fixed2019['Lanes Involved'] != 1)]\n",
    "filtered2019.head(5)"
   ]
  },
  {
   "cell_type": "code",
   "execution_count": null,
   "metadata": {},
   "outputs": [],
   "source": [
    "#clean data for CA (Legal) -  years 2019 through 2021 - MONTHNAME - ACC_TYPE - OWNER - MAK_MODNAME- BODY_TYPNAME - HARM_EVNAME - MAN_COLLNAME - VNUM_LAN(exculed 1 lane)\n"
   ]
  },
  {
   "cell_type": "code",
   "execution_count": null,
   "metadata": {},
   "outputs": [],
   "source": [
    "#clean data for UT (Somewhat legal ) - years 2019 through 2021 - MONTHNAME - ACC_TYPE - OWNER - MAK_MODNAME- BODY_TYPNAME - HARM_EVNAME - MAN_COLLNAME - VNUM_LAN(exculed 1 lane)"
   ]
  },
  {
   "cell_type": "code",
   "execution_count": null,
   "metadata": {},
   "outputs": [],
   "source": [
    "#clean data for ID (Illegal) - years 2019 through 2021 - MONTHNAME - ACC_TYPE - OWNER - MAK_MODNAME- BODY_TYPNAME - HARM_EVNAME - MAN_COLLNAME - VNUM_LAN(exculed 1 lane)"
   ]
  },
  {
   "cell_type": "code",
   "execution_count": null,
   "metadata": {},
   "outputs": [],
   "source": [
    "# Motorcycle type affects safety of lane splitting (Calvin)\n"
   ]
  },
  {
   "cell_type": "code",
   "execution_count": null,
   "metadata": {},
   "outputs": [],
   "source": [
    "# Motorcycle laws affects fewer crashes (Rail)\n"
   ]
  },
  {
   "cell_type": "code",
   "execution_count": null,
   "metadata": {},
   "outputs": [],
   "source": [
    "# Motorcycle laws affects deadly crashes (Jack)\n"
   ]
  },
  {
   "cell_type": "code",
   "execution_count": null,
   "metadata": {},
   "outputs": [],
   "source": [
    "# Motorcycle laws affects injuries (Rachael)\n"
   ]
  },
  {
   "cell_type": "code",
   "execution_count": null,
   "metadata": {},
   "outputs": [],
   "source": [
    "#compare CA years accidents with chart "
   ]
  },
  {
   "cell_type": "code",
   "execution_count": null,
   "metadata": {},
   "outputs": [],
   "source": [
    "#compare UT years accidents with chart "
   ]
  },
  {
   "cell_type": "code",
   "execution_count": null,
   "metadata": {},
   "outputs": [],
   "source": [
    "#compare ID years accidents with chart "
   ]
  },
  {
   "cell_type": "code",
   "execution_count": null,
   "metadata": {},
   "outputs": [],
   "source": [
    "#compare UT & ID to CA with chart"
   ]
  },
  {
   "cell_type": "code",
   "execution_count": null,
   "metadata": {},
   "outputs": [],
   "source": [
    "#compare COLL types "
   ]
  }
 ],
 "metadata": {
  "kernelspec": {
   "display_name": "dev",
   "language": "python",
   "name": "python3"
  },
  "language_info": {
   "codemirror_mode": {
    "name": "ipython",
    "version": 3
   },
   "file_extension": ".py",
   "mimetype": "text/x-python",
   "name": "python",
   "nbconvert_exporter": "python",
   "pygments_lexer": "ipython3",
   "version": "3.10.13"
  }
 },
 "nbformat": 4,
 "nbformat_minor": 2
}
